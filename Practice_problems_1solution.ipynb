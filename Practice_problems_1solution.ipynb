{
  "nbformat": 4,
  "nbformat_minor": 0,
  "metadata": {
    "colab": {
      "provenance": [],
      "include_colab_link": true
    },
    "kernelspec": {
      "name": "python3",
      "display_name": "Python 3"
    },
    "language_info": {
      "name": "python"
    }
  },
  "cells": [
    {
      "cell_type": "markdown",
      "metadata": {
        "id": "view-in-github",
        "colab_type": "text"
      },
      "source": [
        "<a href=\"https://colab.research.google.com/github/NalinikantaOjha/PlayMusic/blob/Arya/Practice_problems_1solution.ipynb\" target=\"_parent\"><img src=\"https://colab.research.google.com/assets/colab-badge.svg\" alt=\"Open In Colab\"/></a>"
      ]
    },
    {
      "cell_type": "markdown",
      "source": [
        "1. Area of circle"
      ],
      "metadata": {
        "id": "PWBnH_6dzB6X"
      }
    },
    {
      "cell_type": "code",
      "execution_count": null,
      "metadata": {
        "colab": {
          "base_uri": "https://localhost:8080/"
        },
        "id": "bXmxw9hEzAGy",
        "outputId": "873d6d2e-b23e-4747-fcb9-f91145f0873a"
      },
      "outputs": [
        {
          "output_type": "stream",
          "name": "stdout",
          "text": [
            "Enter the radius:5\n",
            "\n",
            "The area of the circle is 78.53981633974483\n"
          ]
        }
      ],
      "source": [
        "#inputing radius\n",
        "r = float(input('Enter the radius:'))\n",
        "\n",
        "#calculating area\n",
        "import math \n",
        "area = math.pi*r*r\n",
        "\n",
        "#displaying area\n",
        "print('\\nThe area of the circle is', area)"
      ]
    },
    {
      "cell_type": "markdown",
      "source": [
        "2. Write a Python Program to accept the details of a student like name, roll\n",
        "number and mark and display it.\n"
      ],
      "metadata": {
        "id": "YvMGcwfWz44D"
      }
    },
    {
      "cell_type": "code",
      "metadata": {
        "colab": {
          "base_uri": "https://localhost:8080/"
        },
        "id": "yKDNtEwx3MG_",
        "outputId": "a18ff0de-a8cb-46be-bfeb-bd27d7b2b442"
      },
      "source": [
        "#inputing name\n",
        "name = input('Enter name of the student:')\n",
        "\n",
        "#inputing roll number\n",
        "r_no = int(input('Enter roll number of the student:'))\n",
        "\n",
        "#inputing marks\n",
        "marks = int(input('Enter mark of the student:'))\n",
        "\n",
        "#printing all the inputed values\n",
        "print('\\nName:', name)\n",
        "print('Roll number:', r_no)\n",
        "print('Mark:', marks )"
      ],
      "execution_count": null,
      "outputs": [
        {
          "output_type": "stream",
          "name": "stdout",
          "text": [
            "Enter name of the student:Anisha\n",
            "Enter roll number of the student:21\n",
            "Enter mark of the student:45\n",
            "\n",
            "Name: Anisha\n",
            "Roll number: 21\n",
            "Mark: 45\n"
          ]
        }
      ]
    },
    {
      "cell_type": "markdown",
      "source": [
        "3. Write a Python program to get the largest number from a list"
      ],
      "metadata": {
        "id": "aQks5v0u0cXh"
      }
    },
    {
      "cell_type": "code",
      "metadata": {
        "colab": {
          "base_uri": "https://localhost:8080/"
        },
        "id": "-dbTSFk_3xfS",
        "outputId": "769e91ee-5de2-4c34-a648-7a466c58e368"
      },
      "source": [
        "# method 1\n",
        "#entering list values\n",
        "l1 = [1,2,3,4]\n",
        "\n",
        "#printing maximum value in the list\n",
        "print('Maximum value in', l1, 'is', max(l1))"
      ],
      "execution_count": null,
      "outputs": [
        {
          "output_type": "stream",
          "name": "stdout",
          "text": [
            "Maximum value in [1, 2, 3, 4] is 4\n"
          ]
        }
      ]
    },
    {
      "cell_type": "code",
      "metadata": {
        "colab": {
          "base_uri": "https://localhost:8080/"
        },
        "id": "X8u2yuyO68Xm",
        "outputId": "8c512d97-424b-4194-a161-c8be9c17d313"
      },
      "source": [
        "# method 2\n",
        "#creating an empty list to take values\n",
        "l2 = []\n",
        "\n",
        "#inputing number of elements in the list\n",
        "num = int(input('Enter number of list elements: '))\n",
        "\n",
        "\n",
        "#inputing the list elements\n",
        "\n",
        "for i in range (1,num+1):\n",
        "    a = int(input('Enter list elements: '))\n",
        "    l2.append(a)\n",
        "    \n",
        "\n",
        "#printing maximum value in the list\n",
        "print('\\nMaximum value in', l2, 'is', max(l2))"
      ],
      "execution_count": null,
      "outputs": [
        {
          "output_type": "stream",
          "name": "stdout",
          "text": [
            "Enter number of list elements: 3\n",
            "Enter list elements: 5\n",
            "Enter list elements: 6\n",
            "Enter list elements: 9\n",
            "\n",
            "Maximum value in [5, 6, 9] is 9\n"
          ]
        }
      ]
    },
    {
      "cell_type": "markdown",
      "source": [
        "4. Given a range of first 10 numbers, write a Python program to iterate from \n",
        "start number to the end number and print the sum of the current number \n",
        "and previous number. "
      ],
      "metadata": {
        "id": "HjzwotFr1cMj"
      }
    },
    {
      "cell_type": "code",
      "source": [
        "l = range(1,11)\n",
        "\n",
        "#calculating sum of current number and previous number\n",
        "for i in l:\n",
        "    j = i-1\n",
        "    sum1 = i+j\n",
        "    #printing the sum of current and previous number\n",
        "    print('The sum of current number',i,'and previous number',j,'is', sum1)"
      ],
      "metadata": {
        "colab": {
          "base_uri": "https://localhost:8080/"
        },
        "id": "CGkd_Znz1AQs",
        "outputId": "27a69c7a-6aab-4d09-f3c2-f0fed04176d7"
      },
      "execution_count": null,
      "outputs": [
        {
          "output_type": "stream",
          "name": "stdout",
          "text": [
            "The sum of current number 1 and previous number 0 is 1\n",
            "The sum of current number 2 and previous number 1 is 3\n",
            "The sum of current number 3 and previous number 2 is 5\n",
            "The sum of current number 4 and previous number 3 is 7\n",
            "The sum of current number 5 and previous number 4 is 9\n",
            "The sum of current number 6 and previous number 5 is 11\n",
            "The sum of current number 7 and previous number 6 is 13\n",
            "The sum of current number 8 and previous number 7 is 15\n",
            "The sum of current number 9 and previous number 8 is 17\n",
            "The sum of current number 10 and previous number 9 is 19\n"
          ]
        }
      ]
    },
    {
      "cell_type": "markdown",
      "source": [
        "5. Write a Python program to print only those numbers which are divisible \n",
        "of 5"
      ],
      "metadata": {
        "id": "tHMHdOmv1t-K"
      }
    },
    {
      "cell_type": "code",
      "source": [
        "l=int(input('Enter the limit'))\n",
        "num=[]\n",
        "#input the elemets\n",
        "for i in range(1,l+1):\n",
        "  x=int(input('Enter the list elements'))\n",
        "  num.append(x)\n",
        "\n",
        "#printing number divisible by 5\n",
        "for j in num:\n",
        "  if j%5==0:print(j)\n",
        "\n"
      ],
      "metadata": {
        "colab": {
          "base_uri": "https://localhost:8080/"
        },
        "id": "Jdb-5X3K1-Ut",
        "outputId": "6610dd9b-e089-4984-80c4-32d4c73634ca"
      },
      "execution_count": null,
      "outputs": [
        {
          "output_type": "stream",
          "name": "stdout",
          "text": [
            "Enter the limit5\n",
            "Enter the list elements6\n",
            "Enter the list elements35\n",
            "Enter the list elements22\n",
            "Enter the list elements10\n",
            "Enter the list elements4\n",
            "35\n",
            "10\n"
          ]
        }
      ]
    },
    {
      "cell_type": "markdown",
      "source": [
        "6. Write a Python program to check whether a number is prime or not"
      ],
      "metadata": {
        "id": "A2EZiLxI3BRl"
      }
    },
    {
      "cell_type": "code",
      "source": [
        "#inputing number\n",
        "num = int(input('Enter the number: '))\n",
        "\n",
        "#checking prime or not\n",
        "if num > 1:  \n",
        "   for i in range(2,num):  \n",
        "       if (num % i) == 0:  \n",
        "           print(num,\"is not a prime number\")  \n",
        "           break  \n",
        "   else:  \n",
        "       print(num,\"is a prime number\")  \n",
        "         \n",
        "else:  \n",
        "   print('The number is zero') "
      ],
      "metadata": {
        "colab": {
          "base_uri": "https://localhost:8080/"
        },
        "id": "quk1ld31298t",
        "outputId": "5f4b776c-1b3f-4262-aa43-038e9a6369db"
      },
      "execution_count": null,
      "outputs": [
        {
          "output_type": "stream",
          "name": "stdout",
          "text": [
            "Enter the number: 0\n",
            "The number is zero\n"
          ]
        }
      ]
    },
    {
      "cell_type": "markdown",
      "source": [
        "7. Write a Python program to reverse a list using for loop."
      ],
      "metadata": {
        "id": "KIpl2wDi4d3s"
      }
    },
    {
      "cell_type": "code",
      "source": [
        "l1 = []\n",
        "\n",
        "num = int(input(\"Enter the number of list elements: \"))\n",
        "for i in range(1, num + 1):\n",
        "    value = int(input(\"Please enter the %d element of list : \" %i))\n",
        "    l1.append(value)\n",
        "\n",
        "print('\\nActual list', l1)\n",
        "l1.reverse()\n",
        "print(\"\\nReversed List =  \", l1)"
      ],
      "metadata": {
        "colab": {
          "base_uri": "https://localhost:8080/"
        },
        "id": "sqEW_mpJ4Yj7",
        "outputId": "066cdebe-4001-44a1-d13f-5037b764db36"
      },
      "execution_count": null,
      "outputs": [
        {
          "output_type": "stream",
          "name": "stdout",
          "text": [
            "Enter the number of list elements: 3\n",
            "Please enter the 1 element of list : 5\n",
            "Please enter the 2 element of list : 6\n",
            "Please enter the 3 element of list : 73\n",
            "\n",
            "Actual list [5, 6, 73]\n",
            "\n",
            "Reversed List =   [73, 6, 5]\n"
          ]
        }
      ]
    },
    {
      "cell_type": "code",
      "source": [
        "#Method 2\n",
        "l1 = []\n",
        "l2=[]\n",
        "\n",
        "\n",
        "num = int(input(\"Enter the number of list elements: \"))\n",
        "for i in range(1, num + 1):\n",
        "    value = int(input(\"Please enter the %d element of list : \" %i))\n",
        "    l1.append(value)\n",
        "\n",
        "for item in reversed(l1):\n",
        "    l2.append(item)\n",
        "print(l2)"
      ],
      "metadata": {
        "colab": {
          "base_uri": "https://localhost:8080/"
        },
        "id": "TKIqHZHH57VE",
        "outputId": "f0326d82-3209-4d1b-e374-77f2ea7b4717"
      },
      "execution_count": null,
      "outputs": [
        {
          "output_type": "stream",
          "name": "stdout",
          "text": [
            "Enter the number of list elements: 3\n",
            "Please enter the 1 element of list : 1\n",
            "Please enter the 2 element of list : 2\n",
            "Please enter the 3 element of list : 3\n",
            "[3, 2, 1]\n"
          ]
        }
      ]
    },
    {
      "cell_type": "markdown",
      "source": [
        "8. Write a Python program to print the following pattern."
      ],
      "metadata": {
        "id": "CkEF_F9w78po"
      }
    },
    {
      "cell_type": "code",
      "source": [
        "#inputting number of rows\n",
        "num = int(input(\"Enter the number of rows: \")) \n",
        " \n",
        "#outer loop to handle number of rows  \n",
        "for i in range(0, num):  \n",
        "    # inner loop to handle number of columns. values is changing according to outer loop  \n",
        "        for j in range(0, i + 1):  \n",
        "            # printing stars  \n",
        "            print(\"* \", end=\"\")       \n",
        "  \n",
        "        # ending line after each row  \n",
        "        print()"
      ],
      "metadata": {
        "colab": {
          "base_uri": "https://localhost:8080/"
        },
        "id": "TXYnY8Bt7_Lp",
        "outputId": "2d24ac3a-6985-4b3a-d7d8-a3949fefbef2"
      },
      "execution_count": null,
      "outputs": [
        {
          "output_type": "stream",
          "name": "stdout",
          "text": [
            "Enter the number of rows: 5\n",
            "* \n",
            "* * \n",
            "* * * \n",
            "* * * * \n",
            "* * * * * \n"
          ]
        }
      ]
    },
    {
      "cell_type": "markdown",
      "source": [
        "9. Write a Python program to find the maximum of three numbers"
      ],
      "metadata": {
        "id": "ur1zr2BR8ibB"
      }
    },
    {
      "cell_type": "code",
      "source": [
        "a=int(input('Enter a '))\n",
        "b=int(input('Enter b '))\n",
        "c=int(input('Enter c '))\n",
        "if (a>b) and (a>c):\n",
        "  print('Larger is',a)\n",
        "elif (b>a) and (b>c):\n",
        "  print('Larger is',b)\n",
        "elif(c>a) and (c>b):\n",
        "  print('Larger is',c)"
      ],
      "metadata": {
        "colab": {
          "base_uri": "https://localhost:8080/"
        },
        "id": "rGEHcIgT8sYt",
        "outputId": "58787b04-2f5e-4d3e-bb39-998bd4c6586c"
      },
      "execution_count": null,
      "outputs": [
        {
          "output_type": "stream",
          "name": "stdout",
          "text": [
            "Enter a 5\n",
            "Enter b 6\n",
            "Enter c 8\n",
            "Larger is 8\n"
          ]
        }
      ]
    },
    {
      "cell_type": "markdown",
      "source": [
        "10. Write a Python program to construct the following pattern, using a \n",
        "nested for loop."
      ],
      "metadata": {
        "id": "OviO2jxS8s0V"
      }
    },
    {
      "cell_type": "code",
      "source": [
        "#inputing the number\n",
        "num = int(input('Enter the maximum * needed: '))\n",
        "\n",
        "for i in range(num):\n",
        "    for j in range(i):\n",
        "        print ('* ', end=\"\")\n",
        "    print('')\n",
        "\n",
        "for i in range(num,0,-1):\n",
        "    for j in range(i):\n",
        "        print('* ', end=\"\")\n",
        "    print('')"
      ],
      "metadata": {
        "colab": {
          "base_uri": "https://localhost:8080/"
        },
        "id": "7CFUkq5r6hwI",
        "outputId": "16a6ab0a-ee10-4a49-d5bb-36d3910e0d71"
      },
      "execution_count": null,
      "outputs": [
        {
          "output_type": "stream",
          "name": "stdout",
          "text": [
            "Enter the maximum * needed: 6\n",
            "\n",
            "* \n",
            "* * \n",
            "* * * \n",
            "* * * * \n",
            "* * * * * \n",
            "* * * * * * \n",
            "* * * * * \n",
            "* * * * \n",
            "* * * \n",
            "* * \n",
            "* \n"
          ]
        }
      ]
    },
    {
      "cell_type": "code",
      "source": [],
      "metadata": {
        "id": "A_SC1IeV81iD"
      },
      "execution_count": null,
      "outputs": []
    }
  ]
}